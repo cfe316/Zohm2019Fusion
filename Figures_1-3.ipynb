{
 "cells": [
  {
   "cell_type": "markdown",
   "metadata": {},
   "source": [
    "\n",
    "# A widget to reproduce the outputs of Hartmut Zohm's paper, \"On the size of tokamak fusion power plants\"\n",
    "## Philosophical Transactions A, 04 February 2019\n",
    "\n",
    "http://dx.doi.org/10.1098/rsta.2017.0437"
   ]
  },
  {
   "cell_type": "markdown",
   "metadata": {},
   "source": [
    "Instructions: Execute all the cells, then find the interactive widget at the bottom."
   ]
  },
  {
   "cell_type": "code",
   "execution_count": null,
   "metadata": {},
   "outputs": [],
   "source": [
    "from ipywidgets import interactive\n",
    "import ipywidgets as widgets\n",
    "import matplotlib.pyplot as plt\n",
    "%matplotlib inline\n",
    "import numpy as np\n",
    "from copy import copy"
   ]
  },
  {
   "cell_type": "code",
   "execution_count": null,
   "metadata": {},
   "outputs": [],
   "source": [
    "class ReactorScaling:\n",
    "    \"\"\"\n",
    "    This class just serves as a convenient collection of variables.\n",
    "    (Could probably be replaced by a dict.)\n",
    "    \"\"\"\n",
    "    def __init__(self, A, q, H, beta_N, f_GW, f_LH, P_fus, Q_CD, Q_PB):\n",
    "        self.A = A\n",
    "        self.q = q\n",
    "        self.H = H\n",
    "        self.beta_N = beta_N\n",
    "        self.f_GW = f_GW\n",
    "        self.f_LH = f_LH\n",
    "        self.P_fus = P_fus\n",
    "        self.Q_CD = Q_CD\n",
    "        self.Q_PB = Q_PB\n",
    "        \n",
    "    def set_B_and_R_ref(self, B_ref, R_ref):\n",
    "        self.B = B_ref\n",
    "        self.R = R_ref\n"
   ]
  },
  {
   "cell_type": "markdown",
   "metadata": {},
   "source": [
    "Here are ITER's specifications as reported in the paper. \n",
    "\n",
    "Note that there is an uncertainty as to which value of $Q_\\mathrm{CD}$ Zohm assumed, since ITER does not have a self-sustaining current drive."
   ]
  },
  {
   "cell_type": "code",
   "execution_count": null,
   "metadata": {},
   "outputs": [],
   "source": [
    "RS_ITER = ReactorScaling(A=3.1, q=3.1, H=1.0, beta_N=1.8, f_GW=0.85, f_LH=1.33, P_fus=400, Q_CD=1, Q_PB=10)\n",
    "RS_ITER.set_B_and_R_ref(5.2, 6.2)"
   ]
  },
  {
   "cell_type": "markdown",
   "metadata": {},
   "source": [
    "$P_\\mathrm{fus}$ is the fusion power produced in the reactor."
   ]
  },
  {
   "cell_type": "markdown",
   "metadata": {},
   "source": [
    "$$P_\\mathrm{fus} = c_\\mathrm{fus} \\frac{\\beta_N^2 B^4 A^3}{q^2 A^4} \\qquad \\textrm{(Eq. 2.1)}$$\n",
    "Use ITER's specifications we can solve for $c_\\mathrm{fus}$, then, \n",
    "solve for $B$ in terms of the other variables. \n",
    "$$B = \\frac{P_\\mathrm{fus}^{1/4} q^{1/2} A}{c_\\mathrm{fus}^{1/4} \\beta_N^{1/2} R^{3/4}} $$\n"
   ]
  },
  {
   "cell_type": "code",
   "execution_count": null,
   "metadata": {},
   "outputs": [],
   "source": [
    "def B_Pfus(R, reactor, reactor_ref):\n",
    "    \"\"\"Equation 2.1, solved for B.\n",
    "\n",
    "    \"\"\"\n",
    "    P_fus_ref = reactor_ref.P_fus\n",
    "    A_ref     = reactor_ref.A\n",
    "    q_ref     = reactor_ref.q\n",
    "    beta_N_ref= reactor_ref.beta_N\n",
    "    B_ref     = reactor_ref.B\n",
    "    R_ref     = reactor_ref.R\n",
    "    \n",
    "    P_fus     = reactor.P_fus\n",
    "    q         = reactor.q\n",
    "    A         = reactor.A\n",
    "    beta_N    = reactor.beta_N\n",
    "    \n",
    "    c_fus = P_fus_ref * q_ref**2 * A_ref**4 / (beta_N_ref**2 * B_ref**4 * R_ref**3)\n",
    "    numerator = P_fus**0.25 * q**0.5 * A\n",
    "    denominator = c_fus ** 0.25 * beta_N**0.5 * R**(0.75)\n",
    "    return numerator/denominator"
   ]
  },
  {
   "cell_type": "markdown",
   "metadata": {},
   "source": [
    "$Q_{\\mathrm{PB}}$ is the ratio of the fusion power to the auxiliary power needed to sustain the plasma,\n",
    "\n",
    "$$ Q_{\\mathrm{PB}} = \\frac{P_\\mathrm{fus}}{P_\\mathrm{AUX}} = \\frac{1}{c_\\mathrm{PB}\\left(q^{3.1} A^{3.53} H^{-3.23} \\beta_N^{-0.1} R^{-2.7} B^{-3.7} - 1/5\\right)} \\qquad \\textrm{(Eq. 2.1)}$$\n",
    "The $1/5$ there is because $1/5$ of the fusion power is in the form of the $\\alpha$ particles which heat the plasma.\n",
    "Using the typical ITER value of $Q_\\mathrm{PB} = 10$ we can solve for $c_\\mathrm{PB}$, then solve for $B$ as a function of a _new_ set of reactor parameters."
   ]
  },
  {
   "cell_type": "markdown",
   "metadata": {},
   "source": [
    "$$B = \\left(\\frac{c_\\mathrm{PB}}{Q_\\mathrm{PB}^{-1} + 1/5}\\right)^{1/3.7} \\frac{q^{1/3.7} A^{3.53/3.7}}{H^{3.23/3.7}\\beta_N^{0.1/3.7}R^{2.7/3.7}}$$"
   ]
  },
  {
   "cell_type": "code",
   "execution_count": null,
   "metadata": {},
   "outputs": [],
   "source": [
    "def B_Q_PB(R, reactor, reactor_ref):\n",
    "    \"\"\"Equation 2.2, solved for B\"\"\"\n",
    "    Q_PB_ref  = reactor_ref.Q_PB\n",
    "    H_ref     = reactor_ref.H\n",
    "    A_ref     = reactor_ref.A\n",
    "    q_ref     = reactor_ref.q\n",
    "    beta_N_ref= reactor_ref.beta_N\n",
    "    B_ref     = reactor_ref.B\n",
    "    R_ref     = reactor_ref.R\n",
    "    \n",
    "    Q_PB      = reactor.Q_PB\n",
    "    q         = reactor.q\n",
    "    A         = reactor.A\n",
    "    H         = reactor.H\n",
    "    beta_N    = reactor.beta_N\n",
    "    \n",
    "    c_PB = (Q_PB_ref**(-1) + 1/5) / (q_ref**3.1 * A_ref**3.53 / \\\n",
    "                                     (H_ref**3.23 * beta_N_ref**0.1 * R_ref**2.7 * B_ref**3.7))\n",
    "    \n",
    "    first_term = (c_PB / (Q_PB**(-1) + 1/5))**(1/3.7)\n",
    "    numerator = q**(3.1/3.7) * A**(3.53/3.7)\n",
    "    denominator = H**(3.23/3.7) * beta_N**(0.1/3.7) * R**(2.7/3.7)\n",
    "    return first_term * numerator / denominator"
   ]
  },
  {
   "cell_type": "markdown",
   "metadata": {},
   "source": [
    "$Q_\\mathrm{CD}$ is the ratio of fusion power to the current drive power needed to sustain the plasma current. The paper assumes that the tokamak operates in steady state: if the requirement is not met (as for ITER itself), that means the tokamak can only operate in a pulsed mode.\n",
    "\n",
    "$$ Q_\\mathrm{CD} = \\frac{P_\\mathrm{fus}}{P_\\mathrm{CD}} = c_\\mathrm{CD} \\frac{\\beta_N^{3} R^3 B^3}{A^3 f_\\mathrm{GW}^2\\left( 5 + Z_\\mathrm{eff}\\right)\\left(1 - c_\\mathrm{BS} A^{1/2} q \\beta_N\\right)}$$"
   ]
  },
  {
   "cell_type": "markdown",
   "metadata": {},
   "source": [
    "I'm not certain about the value of $c_\\mathrm{BS}$. From Zohm's 2009 paper it seems plausible that it is $c_\\mathrm{BS} = 0.0318 * 0.7 = 0.02226$.\n",
    "\n",
    "The paper goes not give a value for $Z_\\mathrm{eff}$ so we assume that it is unchanged from the ITER value. We can solve for B as a function of the other variables, scaled from the reference (ITER) value:\n",
    "\n",
    "$$ B = B_\\mathrm{ref} \\left(\\frac{Q_\\mathrm{CD}}{Q_\\mathrm{CD, ref}}\\right)^{1/3}\n",
    "\\left(\\frac{A}{A_\\mathrm{ref}}\\right)\n",
    "\\left(\\frac{R_\\mathrm{ref}}{R}\\right)\n",
    "\\left(\\frac{\\beta_{N,\\mathrm{ref}}}{\\beta_N}\\right)\n",
    "\\left(\\frac{f_\\mathrm{GW}}{f_{\\mathrm{GW,ref}}}\\right)^{2/3}\n",
    "\\left(\\frac{1 - c_\\mathrm{BS} A^{1/2} q \\beta_N}{1 - c_\\mathrm{BS} A^{1/2}_\\mathrm{ref} q_\\mathrm{ref} \\beta_{N,\\mathrm{ref}}}\\right)^{1/3}\n",
    "$$"
   ]
  },
  {
   "cell_type": "code",
   "execution_count": null,
   "metadata": {},
   "outputs": [],
   "source": [
    "def B_Q_CD(R, reactor, reactor_ref):\n",
    "    \"\"\"Equation 2.3, solved for B\"\"\"\n",
    "    \n",
    "    Q_CD_ref  = reactor_ref.Q_CD\n",
    "    f_GW_ref  = reactor_ref.f_GW\n",
    "    A_ref     = reactor_ref.A\n",
    "    q_ref     = reactor_ref.q\n",
    "    beta_N_ref= reactor_ref.beta_N\n",
    "    B_ref     = reactor_ref.B\n",
    "    R_ref     = reactor_ref.R\n",
    "    \n",
    "    Q_CD      = reactor.Q_CD\n",
    "    f_GW      = reactor.f_GW\n",
    "    q         = reactor.q\n",
    "    A         = reactor.A\n",
    "    beta_N    = reactor.beta_N\n",
    "    \n",
    "    Z_eff_ref = 1 # unsure what these are, so they are treated as unchanged from the ITER values.\n",
    "    Z_eff = Z_eff_ref \n",
    "    c_BS = 0.0318 * 0.7\n",
    "    return B_ref * (Q_CD / Q_CD_ref)**(1/3) * (A/A_ref) * (R_ref / R) * \\\n",
    "        (beta_N_ref / beta_N) * (f_GW / f_GW_ref) **(2/3) * ((5 + Z_eff)/(5 + Z_eff_ref))**(1/3) * \\\n",
    "        ((1 - c_BS * A**0.5 * q * beta_N) / (1 - c_BS * A_ref**0.5 * q_ref * beta_N_ref))**(1/3)"
   ]
  },
  {
   "cell_type": "markdown",
   "metadata": {},
   "source": [
    "\"For a fully-consistent solution, $Q_{CD} = Q_{PB}$ but as the two quantities assume large values, their difference will not influence the power balance strongly.\""
   ]
  },
  {
   "cell_type": "markdown",
   "metadata": {},
   "source": [
    "$f_{z, \\mathrm{div}}$ represents the concentration of impurities in the divertor. It's not explicitly calculated in Zohm's paper; instead, the equation is scaled relative to the (non-calculated) ITER value.\n",
    "\n",
    "$$f_{Z, \\mathrm{div}} = c_\\mathrm{exh} \\frac{f_{\\mathrm{LH}}^{1.14}q^{0.32} B^{0.88} R^{1.33}}{f_\\mathrm{GW}^{1.18}} \\qquad \\textrm{Eq. 2.4}$$"
   ]
  },
  {
   "cell_type": "markdown",
   "metadata": {},
   "source": [
    "The scaling equation relative to the (ITER) reference point is\n",
    "$$ B = B_\\mathrm{ref} \\left(\\frac{f_\\mathrm{GW}}{f_{\\mathrm{GW},\\mathrm{ref}}}\\right)^{1.18/0.88}\n",
    "\\left(\\frac{f_{\\mathrm{LH},\\mathrm{ref}}}{f_\\mathrm{LH}}\\right)^{1.14/0.88}\n",
    "\\left(\\frac{q_\\mathrm{ref}}{q}\\right)^{0.32/0.88}\n",
    "\\left(\\frac{R_\\mathrm{ref}}{R}\\right)^{1.33/0.88}\n",
    "$$"
   ]
  },
  {
   "cell_type": "code",
   "execution_count": null,
   "metadata": {},
   "outputs": [],
   "source": [
    "def B_f_zdiv(R, reactor, reactor_ref):\n",
    "    \"\"\"Equation 2.4 solved for B\"\"\"\n",
    "    \n",
    "    f_GW_ref  = reactor_ref.f_GW\n",
    "    f_LH_ref  = reactor_ref.f_LH\n",
    "    q_ref     = reactor_ref.q\n",
    "    B_ref     = reactor_ref.B\n",
    "    R_ref     = reactor_ref.R\n",
    "    \n",
    "    f_GW      = reactor.f_GW\n",
    "    f_LH      = reactor.f_LH\n",
    "    q         = reactor.q\n",
    "    \n",
    "    B = B_ref * (f_GW / f_GW_ref)**(1.18/0.88) * (f_LH_ref/f_LH)**(1.14/0.88) * \\\n",
    "         (q_ref / q)**(0.32/0.88) * (R_ref / R)**(1.33/0.88)\n",
    "    return B"
   ]
  },
  {
   "cell_type": "markdown",
   "metadata": {},
   "source": [
    "## Make an interactive plot"
   ]
  },
  {
   "cell_type": "markdown",
   "metadata": {},
   "source": [
    "Plot the required $B$ as a function of $R$, depending on the reactor parameters."
   ]
  },
  {
   "cell_type": "code",
   "execution_count": null,
   "metadata": {},
   "outputs": [],
   "source": [
    "R = np.arange(2, 10.1, 0.25)\n",
    "plt.rcParams['font.size'] = 18\n",
    "\n",
    "def f(my_P_fus, my_Q_PB, my_Q_CD, my_f_LH, my_f_GW, my_q, my_H, my_beta_N):\n",
    "    reactor= ReactorScaling(3.1, my_q, my_H, my_beta_N, my_f_GW, my_f_LH, my_P_fus, my_Q_CD, my_Q_PB)\n",
    "    bs_pfus = B_Pfus(R, reactor, RS_ITER)\n",
    "    bs_QPB  = B_Q_PB(R, reactor, RS_ITER)\n",
    "    bs_qcd = B_Q_CD(R, reactor, RS_ITER)\n",
    "    bs_fz = B_f_zdiv(R, reactor, RS_ITER)\n",
    "    \n",
    "    \n",
    "    fig, ax = plt.subplots()\n",
    "    ax.plot(R, bs_pfus, label=r'$P_\\mathrm{fus}$', color='red')\n",
    "    ax.plot(R, bs_QPB, label=r'$Q_\\mathrm{PB}$', color='blue')\n",
    "    ax.plot(R, bs_qcd, label=r'$Q_\\mathrm{CD}$', color='green')\n",
    "    ax.plot(R, bs_fz, label=r'$f_Z$', color='yellow')\n",
    "\n",
    "    plt.ylim(5, 14)\n",
    "    plt.xlim(2,10)\n",
    "    plt.xlabel(r'$R/\\mathrm{m}$')\n",
    "    plt.ylabel(r'$B/\\mathrm{T}$')\n",
    "    plt.legend()\n",
    "\n",
    "    plt.show()\n",
    "\n",
    "interactive_plot = interactive(f, my_f_LH=widgets.FloatSlider(description=r'$f_\\mathrm{LH}$', min=1.0, max=1.33, step=0.01, value=1.33),\n",
    "                               my_f_GW=widgets.FloatSlider(description=r'$f_\\mathrm{GW}$', min=0.85, max=1.2, step=0.05, value=0.85),\n",
    "                               my_q=widgets.FloatSlider(description=r'$q$', min=3.1, max=6, step=0.1, value=3.1),\n",
    "                               my_H=widgets.FloatSlider(description=r'$H$', min=1.0, max=1.2, step=0.1, value=1.0),\n",
    "                               my_P_fus=widgets.IntSlider(description=r'$P_\\mathrm{fus}$', min=400, max=3500, step=100, value=400),\n",
    "                               my_Q_PB=widgets.IntSlider(description=r'$Q_\\mathrm{PB}$', min=1, max=100, step=1, value=10), \n",
    "                               my_Q_CD=widgets.IntSlider(description=r'$Q_\\mathrm{CD}$', min=1, max=100, step=1, value=10),\n",
    "                               my_beta_N=widgets.FloatSlider(description=r'$\\beta_\\mathrm{N}$', min=1.8, max=3.5, step=0.1, value=1.8))\n",
    "output = interactive_plot.children[-1]\n",
    "output.layout.height = '350px'\n",
    "interactive_plot"
   ]
  },
  {
   "cell_type": "markdown",
   "metadata": {},
   "source": [
    "The default settings for the plot reproduce Figure 1.\n",
    "Try changing the sliders to the values for the other figures!"
   ]
  }
 ],
 "metadata": {
  "kernelspec": {
   "display_name": "Python 3",
   "language": "python",
   "name": "python3"
  },
  "language_info": {
   "codemirror_mode": {
    "name": "ipython",
    "version": 3
   },
   "file_extension": ".py",
   "mimetype": "text/x-python",
   "name": "python",
   "nbconvert_exporter": "python",
   "pygments_lexer": "ipython3",
   "version": "3.8.5"
  }
 },
 "nbformat": 4,
 "nbformat_minor": 4
}
